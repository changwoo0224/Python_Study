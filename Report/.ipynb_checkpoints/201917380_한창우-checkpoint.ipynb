{
 "cells": [
  {
   "cell_type": "code",
   "execution_count": 2,
   "id": "90d9218d",
   "metadata": {},
   "outputs": [
    {
     "name": "stdout",
     "output_type": "stream",
     "text": [
      "숫자를 입력하세요24\n",
      "1 2 짝 4 5 짝 7 8 짝 10\n",
      "11 12 짝 14 15 짝 17 18 짝 20\n",
      "21 22 짝 24 "
     ]
    }
   ],
   "source": [
    "# 함수 정의\n",
    "\n",
    "def SamYookGoo(i):\n",
    "    n=[] # int형 리스트\n",
    "    string=[] # str형 리스트\n",
    "    final=[] # \"짝\"이 나오는 리스트\n",
    "\n",
    "    for x in range(1,i+1): # n까지의 int형 리스트 만들기\n",
    "        n.append(x)\n",
    "\n",
    "    for x in n: # n리스트를 str 타입으로 변환\n",
    "        string.append(str(x))\n",
    "\n",
    "    for x in string:\n",
    "        a=x # a에 x를 저장\n",
    "\n",
    "        if a.count('3')+a.count('6')+a.count('9') > 0:\n",
    "            a=(\"짝\"*(a.count('3')+a.count('6')+a.count('9')))\n",
    "            \n",
    "        final.append(a)\n",
    "    \n",
    "    for i in range(1,len(final)+1): # index num +1= 10의 배수 일때 한줄 엔터\n",
    "        if i%10 == 0:\n",
    "            print(final[i-1],end=\"\\n\")\n",
    "            \n",
    "        else:\n",
    "            print(final[i-1],end=\" \")\n",
    "\n",
    "# 입력 및 함수 사용\n",
    "\n",
    "i=int(input(\"숫자를 입력하세요\"))\n",
    "SamYookGoo(i)"
   ]
  },
  {
   "cell_type": "code",
   "execution_count": null,
   "id": "5bdded7e",
   "metadata": {},
   "outputs": [],
   "source": []
  }
 ],
 "metadata": {
  "kernelspec": {
   "display_name": "Python 3 (ipykernel)",
   "language": "python",
   "name": "python3"
  },
  "language_info": {
   "codemirror_mode": {
    "name": "ipython",
    "version": 3
   },
   "file_extension": ".py",
   "mimetype": "text/x-python",
   "name": "python",
   "nbconvert_exporter": "python",
   "pygments_lexer": "ipython3",
   "version": "3.9.13"
  }
 },
 "nbformat": 4,
 "nbformat_minor": 5
}
